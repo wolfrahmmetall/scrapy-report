{
 "cells": [
  {
   "cell_type": "markdown",
   "metadata": {},
   "source": [
    "# Доклад по Scrapy \n",
    "Выполнил Хоранян Нарек ЭАД"
   ]
  },
  {
   "cell_type": "markdown",
   "metadata": {},
   "source": [
    "### Scrapy? Что это вообще?\n",
    "\n",
    "Процитируем документацию:\n",
    ">Scrapy (/ˈskreɪpaɪ/) is an application framework for crawling web sites and extracting structured data which can be used for a wide range of useful applications, like data mining, information processing or historical archival.\n",
    "\n",
    ">Even though Scrapy was originally designed for web scraping, it can also be used to extract data using APIs (such as Amazon Associates Web Services) or as a general purpose web crawler.\n"
   ]
  },
  {
   "cell_type": "markdown",
   "metadata": {},
   "source": [
    "### Переведем с технического на человческий:\n",
    "Scrapy - это ФРЕЙМВОРК, который позволяют ползти по сайтам и извлекать структурированные данные типа таблиц и вообще чего угодно что написано нормальным хтмлевым языком, то есть мега удобный парсер"
   ]
  },
  {
   "cell_type": "markdown",
   "metadata": {},
   "source": [
    "### Почему Scrapy а не пацанские самопалы через request/aiohttp?\n",
    "1. В основе Scrapy лежит *асинхронный* движок\n",
    "2. Поддержка почти чего угодно:\n",
    "   1. CSS-селекторы\n",
    "   2. Генерация экспортов в множестве формаотв (JSON, CSV, XML) и их хранение в разных бэкендах (FTP, S3, локально)\n",
    "   3. Обширная поддержка кодировок и автообнаружений для работу с иностранными нестандартными языками\n",
    "   4. Модульность (через сигналы и грамотно описанное АПИ)(middlewares, extensions, and pipelines).\n",
    "   5. Встроенные расширения и плагины для:\n",
    "      1. cookies and session handling\n",
    "      2. HTTP features like compression, authentication, caching\n",
    "      3. user-agent spoofing\n",
    "      4. robots.txt\n",
    "      5. crawl depth restriction\n",
    "3. Интеграция с Selenium через Scrapy-Selenium\n"
   ]
  },
  {
   "cell_type": "markdown",
   "metadata": {},
   "source": [
    "## А, ну и пример\n",
    "\n",
    "Сложнейший выбор сделают лишь сильнейшие. Поэтому мы сделаем самый маскулинный и dominance asserting мув который можно представить - запарсим Северсталь.Маркет и по пути парсинга расскажу какие приколы вообще лежат в Scrapy"
   ]
  },
  {
   "cell_type": "markdown",
   "metadata": {},
   "source": [
    "Почему Северсталь.Маркет? А потому что придется поиграться с селениумом а мне хочется поиграться с селениумом (у челов слишком много уровней защиты), и мы будем использовать не просто Scrapy, а Scrapy-Selenium"
   ]
  },
  {
   "cell_type": "markdown",
   "metadata": {},
   "source": []
  },
  {
   "cell_type": "code",
   "execution_count": null,
   "metadata": {},
   "outputs": [],
   "source": []
  }
 ],
 "metadata": {
  "kernelspec": {
   "display_name": "Python 3",
   "language": "python",
   "name": "python3"
  },
  "language_info": {
   "name": "python",
   "version": "3.11.7"
  }
 },
 "nbformat": 4,
 "nbformat_minor": 2
}
